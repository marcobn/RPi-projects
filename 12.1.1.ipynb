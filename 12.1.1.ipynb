{
 "cells": [
  {
   "cell_type": "code",
   "execution_count": 15,
   "id": "e4f3e6e3-16b8-4f96-9271-0666e4d2abf7",
   "metadata": {},
   "outputs": [],
   "source": [
    "import RPi.GPIO as GPIO\n",
    "import time\n",
    "from ADCDevice import *\n",
    "import threading"
   ]
  },
  {
   "cell_type": "code",
   "execution_count": 40,
   "id": "8ab2db5b-8bf9-42b7-af03-bbe915bf930d",
   "metadata": {},
   "outputs": [],
   "source": [
    "Z_Pin = 12      # define Z_Pin\n",
    "adc = ADCDevice() # Define an ADCDevice class object"
   ]
  },
  {
   "cell_type": "code",
   "execution_count": 34,
   "id": "f481e7c6-3f73-4d9a-9547-ee4d5f586482",
   "metadata": {},
   "outputs": [],
   "source": [
    "def setup():\n",
    "    global adc\n",
    "    if(adc.detectI2C(0x48)): # Detect the pcf8591.\n",
    "        adc = PCF8591()\n",
    "    elif(adc.detectI2C(0x4b)): # Detect the ads7830\n",
    "        adc = ADS7830()\n",
    "    else:\n",
    "        print(\"No correct I2C address found, \\n\"\n",
    "        \"Please use command 'i2cdetect -y 1' to check the I2C address! \\n\"\n",
    "        \"Program Exit. \\n\");\n",
    "        exit(-1)\n",
    "    GPIO.setmode(GPIO.BOARD)        \n",
    "    GPIO.setup(Z_Pin,GPIO.IN,GPIO.PUD_UP)   # set Z_Pin to pull-up mode"
   ]
  },
  {
   "cell_type": "code",
   "execution_count": 35,
   "id": "7507fedc-d4d1-4245-807b-0961a82b91a2",
   "metadata": {},
   "outputs": [],
   "source": [
    "def destroy():\n",
    "    adc.close()\n",
    "    GPIO.cleanup()"
   ]
  },
  {
   "cell_type": "code",
   "execution_count": 36,
   "id": "3ec3337d-9315-4909-ba2a-34bb75fcf999",
   "metadata": {},
   "outputs": [],
   "source": [
    "def loop():\n",
    "    global stop\n",
    "    val_X0 = 0\n",
    "    val_Y0 = 0\n",
    "    val_Z0 = 0\n",
    "    while True:     \n",
    "        val_Z = GPIO.input(Z_Pin)       # read digital value of axis Z\n",
    "        val_Y = adc.analogRead(0)           # read analog value of axis X and Y\n",
    "        val_X = adc.analogRead(1)\n",
    "        if val_Z != val_Z0 or val_Y != val_Y0 or val_X != val_X0:\n",
    "            print ('value_X: %d ,\\tvalue_Y: %d ,\\tvalue_Z: %d'%(val_X,val_Y,val_Z))\n",
    "        val_X0 = val_X\n",
    "        val_Y0 = val_Y\n",
    "        val_Z0 = val_Z\n",
    "        time.sleep(0.1)\n",
    "        if stop:\n",
    "            break  "
   ]
  },
  {
   "cell_type": "code",
   "execution_count": 41,
   "id": "ffc05dde-bb37-4361-9806-d750e72a5237",
   "metadata": {},
   "outputs": [
    {
     "name": "stdout",
     "output_type": "stream",
     "text": [
      "Not found device in address 0x48\n",
      "Found device in address 0x4b\n"
     ]
    }
   ],
   "source": [
    "setup()"
   ]
  },
  {
   "cell_type": "code",
   "execution_count": null,
   "id": "3ebfcc32-8c49-4812-856a-1edfbaf5764e",
   "metadata": {},
   "outputs": [],
   "source": [
    "stop = False\n",
    "threading.Thread(target=loop,args=()).start()"
   ]
  },
  {
   "cell_type": "code",
   "execution_count": null,
   "id": "208f8772-d026-4801-94bf-6ee51e143b69",
   "metadata": {},
   "outputs": [],
   "source": [
    "stop=True"
   ]
  },
  {
   "cell_type": "code",
   "execution_count": 44,
   "id": "e165277c-957e-4d00-9005-efebec94ae7b",
   "metadata": {},
   "outputs": [],
   "source": [
    "destroy()"
   ]
  },
  {
   "cell_type": "code",
   "execution_count": null,
   "id": "23dd582a-0211-414e-8b05-f860f7325f96",
   "metadata": {},
   "outputs": [],
   "source": []
  }
 ],
 "metadata": {
  "kernelspec": {
   "display_name": "Python 3 (ipykernel)",
   "language": "python",
   "name": "python3"
  },
  "language_info": {
   "codemirror_mode": {
    "name": "ipython",
    "version": 3
   },
   "file_extension": ".py",
   "mimetype": "text/x-python",
   "name": "python",
   "nbconvert_exporter": "python",
   "pygments_lexer": "ipython3",
   "version": "3.9.2"
  }
 },
 "nbformat": 4,
 "nbformat_minor": 5
}
