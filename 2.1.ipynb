{
 "cells": [
  {
   "cell_type": "code",
   "execution_count": 1,
   "id": "3f5ee643-8f22-43fb-88e4-70ef15d5e96a",
   "metadata": {},
   "outputs": [],
   "source": [
    "import RPi.GPIO as GPIO\n",
    "import time\n",
    "import threading"
   ]
  },
  {
   "cell_type": "code",
   "execution_count": 2,
   "id": "2fa6fdd7-62c0-4c8c-9ae1-b2458be20a53",
   "metadata": {},
   "outputs": [],
   "source": [
    "ledPin = 11       # define ledPin\n",
    "buttonPin = 12    # define buttonPin\n",
    "ledState = False\n",
    "\n",
    "def setup():    \n",
    "    GPIO.setmode(GPIO.BOARD)         # use PHYSICAL GPIO Numbering\n",
    "    GPIO.setup(ledPin, GPIO.OUT)     # set ledPin to OUTPUT mode\n",
    "    GPIO.setup(buttonPin, GPIO.IN, pull_up_down=GPIO.PUD_UP)     # set buttonPin to PULL UP INPUT mode"
   ]
  },
  {
   "cell_type": "code",
   "execution_count": 3,
   "id": "0d7314a3-404e-4823-8a48-5d6068fd96a6",
   "metadata": {},
   "outputs": [],
   "source": [
    "# callback function\n",
    "def buttonEvent(channel): # When button is pressed, this function will be executed\n",
    "    global ledState \n",
    "    print ('buttonEvent GPIO%d' %channel)\n",
    "    ledState = not ledState\n",
    "    GPIO.output(ledPin,ledState)"
   ]
  },
  {
   "cell_type": "code",
   "execution_count": 4,
   "id": "d1919959-db80-4f98-96c4-145efd53d130",
   "metadata": {},
   "outputs": [],
   "source": [
    "def destroy():\n",
    "    GPIO.output(ledPin, GPIO.LOW)     # turn off led \n",
    "    GPIO.cleanup()                    # Release GPIO resource"
   ]
  },
  {
   "cell_type": "markdown",
   "id": "e28ad4bf-4965-4066-aa35-c6bdc21b31a8",
   "metadata": {},
   "source": [
    "### Run"
   ]
  },
  {
   "cell_type": "code",
   "execution_count": 5,
   "id": "439c7077-2526-427b-8e56-d30a6afe1667",
   "metadata": {},
   "outputs": [],
   "source": [
    "setup()"
   ]
  },
  {
   "cell_type": "code",
   "execution_count": 6,
   "id": "16fd86b6-7c31-47e7-a250-e8c1d7e8be27",
   "metadata": {},
   "outputs": [],
   "source": [
    "GPIO.add_event_detect(buttonPin,GPIO.FALLING,callback = buttonEvent,bouncetime=300)"
   ]
  },
  {
   "cell_type": "code",
   "execution_count": 7,
   "id": "44265a4b-93ab-448f-a32e-26455a1cd6d5",
   "metadata": {},
   "outputs": [],
   "source": [
    "destroy()"
   ]
  },
  {
   "cell_type": "code",
   "execution_count": null,
   "id": "30446a07-81fa-4f29-ba17-17ec1d37e678",
   "metadata": {},
   "outputs": [],
   "source": []
  }
 ],
 "metadata": {
  "kernelspec": {
   "display_name": "Python 3 (ipykernel)",
   "language": "python",
   "name": "python3"
  },
  "language_info": {
   "codemirror_mode": {
    "name": "ipython",
    "version": 3
   },
   "file_extension": ".py",
   "mimetype": "text/x-python",
   "name": "python",
   "nbconvert_exporter": "python",
   "pygments_lexer": "ipython3",
   "version": "3.9.2"
  }
 },
 "nbformat": 4,
 "nbformat_minor": 5
}
