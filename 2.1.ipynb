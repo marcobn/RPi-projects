{
 "cells": [
  {
   "cell_type": "code",
   "execution_count": 1,
   "id": "3f5ee643-8f22-43fb-88e4-70ef15d5e96a",
   "metadata": {},
   "outputs": [],
   "source": [
    "import RPi.GPIO as GPIO\n",
    "import time\n",
    "import threading"
   ]
  },
  {
   "cell_type": "code",
   "execution_count": 2,
   "id": "2fa6fdd7-62c0-4c8c-9ae1-b2458be20a53",
   "metadata": {},
   "outputs": [],
   "source": [
    "ledPin = 11    # define ledPin\n",
    "buttonPin = 12    # define buttonPin\n",
    "\n",
    "def setup():\n",
    "    GPIO.setmode(GPIO.BOARD)       # use PHYSICAL GPIO Numbering\n",
    "    GPIO.setup(ledPin, GPIO.OUT)   # set the ledPin to OUTPUT mode\n",
    "    GPIO.output(ledPin, GPIO.LOW)  # make ledPin output LOW level\n",
    "    GPIO.setup(buttonPin, GPIO.IN, pull_up_down=GPIO.PUD_UP)    # set buttonPin to PULL UP INPUT mode\n",
    "    print ('using pin%d'%ledPin)"
   ]
  },
  {
   "cell_type": "code",
   "execution_count": 3,
   "id": "439c7077-2526-427b-8e56-d30a6afe1667",
   "metadata": {},
   "outputs": [
    {
     "name": "stdout",
     "output_type": "stream",
     "text": [
      "using pin11\n"
     ]
    }
   ],
   "source": [
    "setup()"
   ]
  },
  {
   "cell_type": "code",
   "execution_count": 4,
   "id": "afb7f6d0-207e-465f-8f42-53e4977d579e",
   "metadata": {},
   "outputs": [
    {
     "name": "stdout",
     "output_type": "stream",
     "text": [
      "led turned on >>>\n"
     ]
    }
   ],
   "source": [
    "GPIO.output(ledPin, GPIO.HIGH)  # make ledPin output HIGH level to turn on led\n",
    "print ('led turned on >>>')     # print information on terminal"
   ]
  },
  {
   "cell_type": "code",
   "execution_count": 5,
   "id": "1623df41-dee9-4fb0-9b4a-3d05f22e4b6d",
   "metadata": {},
   "outputs": [
    {
     "name": "stdout",
     "output_type": "stream",
     "text": [
      "led turned off <<<\n"
     ]
    }
   ],
   "source": [
    "GPIO.output(ledPin, GPIO.LOW)   # make ledPin output LOW level to turn off led\n",
    "print ('led turned off <<<')"
   ]
  },
  {
   "cell_type": "code",
   "execution_count": 8,
   "id": "16fd86b6-7c31-47e7-a250-e8c1d7e8be27",
   "metadata": {},
   "outputs": [],
   "source": [
    "def loop():\n",
    "    global stop\n",
    "    while True:\n",
    "        if GPIO.input(buttonPin)==GPIO.LOW: # if button is pressed\n",
    "            GPIO.output(ledPin,GPIO.HIGH)   # turn on led\n",
    "        else : # if button is relessed\n",
    "            GPIO.output(ledPin,GPIO.LOW) # turn off led \n",
    "        if stop: \n",
    "            print('break loop')\n",
    "            break\n",
    "        time.sleep(0.01)"
   ]
  },
  {
   "cell_type": "code",
   "execution_count": 9,
   "id": "d1919959-db80-4f98-96c4-145efd53d130",
   "metadata": {},
   "outputs": [],
   "source": [
    "def destroy():\n",
    "    GPIO.output(ledPin, GPIO.LOW)     # turn off led \n",
    "    GPIO.cleanup()                    # Release GPIO resource"
   ]
  },
  {
   "cell_type": "code",
   "execution_count": 10,
   "id": "168dc267-a956-49b4-a73c-d93332b8740f",
   "metadata": {},
   "outputs": [],
   "source": [
    "stop = False\n",
    "threading.Thread(target=loop,args=()).start()"
   ]
  },
  {
   "cell_type": "code",
   "execution_count": 11,
   "id": "a721d461-7ba3-488f-baf6-9a6bcf3e1643",
   "metadata": {},
   "outputs": [
    {
     "name": "stdout",
     "output_type": "stream",
     "text": [
      "break loop\n"
     ]
    }
   ],
   "source": [
    "stop = True"
   ]
  },
  {
   "cell_type": "code",
   "execution_count": 12,
   "id": "44265a4b-93ab-448f-a32e-26455a1cd6d5",
   "metadata": {},
   "outputs": [],
   "source": [
    "destroy()"
   ]
  },
  {
   "cell_type": "code",
   "execution_count": null,
   "id": "722bf076-61b0-4f19-a00b-aa4e97bad538",
   "metadata": {},
   "outputs": [],
   "source": []
  }
 ],
 "metadata": {
  "kernelspec": {
   "display_name": "Python 3 (ipykernel)",
   "language": "python",
   "name": "python3"
  },
  "language_info": {
   "codemirror_mode": {
    "name": "ipython",
    "version": 3
   },
   "file_extension": ".py",
   "mimetype": "text/x-python",
   "name": "python",
   "nbconvert_exporter": "python",
   "pygments_lexer": "ipython3",
   "version": "3.9.2"
  }
 },
 "nbformat": 4,
 "nbformat_minor": 5
}
