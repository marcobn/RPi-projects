{
 "cells": [
  {
   "cell_type": "code",
   "execution_count": 2,
   "id": "ee38bff7-cc55-44b2-a6d8-930d5d7c08af",
   "metadata": {},
   "outputs": [],
   "source": [
    "import RPi.GPIO as GPIO\n",
    "import Keypad       #import module Keypad\n",
    "import time, threading"
   ]
  },
  {
   "cell_type": "code",
   "execution_count": 3,
   "id": "59635786-4524-4c40-8d62-4446ff8a9bc0",
   "metadata": {},
   "outputs": [],
   "source": [
    "ROWS = 4        # number of rows of the Keypad\n",
    "COLS = 4        #number of columns of the Keypad\n",
    "keys =  [   '1','2','3','A',    #key code\n",
    "            '4','5','6','B',\n",
    "            '7','8','9','C',\n",
    "            '*','0','#','D'     ]\n",
    "rowsPins = [12,16,18,22]        #connect to the row pinouts of the keypad\n",
    "colsPins = [19,15,13,11]        #connect to the column pinouts of the keypad"
   ]
  },
  {
   "cell_type": "code",
   "execution_count": 4,
   "id": "350b8a8a-f52c-44aa-b041-251c5bc75165",
   "metadata": {},
   "outputs": [],
   "source": [
    "def loop():\n",
    "    global stop\n",
    "    keypad = Keypad.Keypad(keys,rowsPins,colsPins,ROWS,COLS)    #creat Keypad object\n",
    "    keypad.setDebounceTime(50)      #set the debounce time\n",
    "    while(True):\n",
    "        key = keypad.getKey()       #obtain the state of keys\n",
    "        if(key != keypad.NULL):     #if there is key pressed, print its key code.\n",
    "            print (\"You Pressed Key : %c \"%(key))\n",
    "        if stop:\n",
    "            break\n",
    "        time.sleep(0.01)    "
   ]
  },
  {
   "cell_type": "code",
   "execution_count": 5,
   "id": "8478af06-5862-4563-b8c3-379fdba8f47d",
   "metadata": {},
   "outputs": [
    {
     "name": "stdout",
     "output_type": "stream",
     "text": [
      "You Pressed Key : 1 \n",
      "You Pressed Key : 4 \n",
      "You Pressed Key : 7 \n",
      "You Pressed Key : * \n",
      "You Pressed Key : 2 \n",
      "You Pressed Key : 5 \n",
      "You Pressed Key : 8 \n",
      "You Pressed Key : 0 \n",
      "You Pressed Key : 3 \n",
      "You Pressed Key : 6 \n",
      "You Pressed Key : 9 \n",
      "You Pressed Key : # \n",
      "You Pressed Key : 1 \n",
      "You Pressed Key : 0 \n",
      "You Pressed Key : 1 \n",
      "You Pressed Key : 1 \n",
      "You Pressed Key : 2 \n",
      "You Pressed Key : 3 \n",
      "You Pressed Key : 3 \n"
     ]
    }
   ],
   "source": [
    "stop = False\n",
    "threading.Thread(target=loop,args=()).start()"
   ]
  },
  {
   "cell_type": "code",
   "execution_count": 6,
   "id": "8467694b-0acb-4ac6-a8f6-deacaf70bb42",
   "metadata": {},
   "outputs": [],
   "source": [
    "stop = True"
   ]
  },
  {
   "cell_type": "code",
   "execution_count": null,
   "id": "0a6c8e54-1bdd-4f3f-b074-7a81bb0390cf",
   "metadata": {},
   "outputs": [],
   "source": [
    "GPIO.cleanup()                    # Release GPIO resource"
   ]
  }
 ],
 "metadata": {
  "kernelspec": {
   "display_name": "Python 3 (ipykernel)",
   "language": "python",
   "name": "python3"
  },
  "language_info": {
   "codemirror_mode": {
    "name": "ipython",
    "version": 3
   },
   "file_extension": ".py",
   "mimetype": "text/x-python",
   "name": "python",
   "nbconvert_exporter": "python",
   "pygments_lexer": "ipython3",
   "version": "3.9.2"
  }
 },
 "nbformat": 4,
 "nbformat_minor": 5
}
